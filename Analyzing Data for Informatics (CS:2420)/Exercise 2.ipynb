{
 "cells": [
  {
   "cell_type": "code",
   "execution_count": null,
   "metadata": {},
   "outputs": [],
   "source": [
    "# Jupyter Notebook"
   ]
  },
  {
   "cell_type": "code",
   "execution_count": 1,
   "metadata": {},
   "outputs": [],
   "source": [
    "import pandas as pd"
   ]
  },
  {
   "cell_type": "code",
   "execution_count": 128,
   "metadata": {},
   "outputs": [],
   "source": [
    "mpg = pd.read_csv('mpg.csv')"
   ]
  },
  {
   "cell_type": "code",
   "execution_count": 129,
   "metadata": {},
   "outputs": [
    {
     "name": "stdout",
     "output_type": "stream",
     "text": [
      "#1 database, Head(): \n",
      "\n",
      "     mpg  cylinders  displacement  horsepower  weight  acceleration  \\\n",
      "0  18.0          8         307.0       130.0    3504          12.0   \n",
      "1  15.0          8         350.0       165.0    3693          11.5   \n",
      "2  18.0          8         318.0       150.0    3436          11.0   \n",
      "3  16.0          8         304.0       150.0    3433          12.0   \n",
      "4  17.0          8         302.0       140.0    3449          10.5   \n",
      "\n",
      "   model_year origin                       name  \n",
      "0          70    usa  chevrolet chevelle malibu  \n",
      "1          70    usa          buick skylark 320  \n",
      "2          70    usa         plymouth satellite  \n",
      "3          70    usa              amc rebel sst  \n",
      "4          70    usa                ford torino  \n"
     ]
    }
   ],
   "source": [
    "print(\"#1 database, Head():\", \"\\n\\n\", mpg.head())"
   ]
  },
  {
   "cell_type": "code",
   "execution_count": 94,
   "metadata": {},
   "outputs": [
    {
     "name": "stdout",
     "output_type": "stream",
     "text": [
      "#2 Cars, total number of rows: 398\n"
     ]
    }
   ],
   "source": [
    "count = mpg.shape[0]\n",
    "print(\"#2 Cars, total number of rows:\", count)"
   ]
  },
  {
   "cell_type": "code",
   "execution_count": 95,
   "metadata": {},
   "outputs": [
    {
     "name": "stdout",
     "output_type": "stream",
     "text": [
      "#3 Columns filtered by name starting with m: \n",
      "\n",
      "       mpg  model_year\n",
      "0    18.0          70\n",
      "1    15.0          70\n",
      "2    18.0          70\n",
      "3    16.0          70\n",
      "4    17.0          70\n",
      "..    ...         ...\n",
      "393  27.0          82\n",
      "394  44.0          82\n",
      "395  32.0          82\n",
      "396  28.0          82\n",
      "397  31.0          82\n",
      "\n",
      "[398 rows x 2 columns]\n"
     ]
    }
   ],
   "source": [
    "print(\"#3 Columns filtered by name starting with m:\", \"\\n\\n\", mpg.filter(regex='^m') )"
   ]
  },
  {
   "cell_type": "code",
   "execution_count": 96,
   "metadata": {},
   "outputs": [
    {
     "name": "stdout",
     "output_type": "stream",
     "text": [
      "#4 Picks a random sample of 5 rows: \n",
      "\n",
      "       mpg  cylinders  displacement  horsepower  weight  acceleration  \\\n",
      "372  27.0          4         151.0        90.0    2735          18.0   \n",
      "359  28.1          4         141.0        80.0    3230          20.4   \n",
      "329  44.6          4          91.0        67.0    1850          13.8   \n",
      "397  31.0          4         119.0        82.0    2720          19.4   \n",
      "169  20.0          6         232.0       100.0    2914          16.0   \n",
      "\n",
      "     model_year  origin                       name  \n",
      "372          82     usa            pontiac phoenix  \n",
      "359          81  europe  peugeot 505s turbo diesel  \n",
      "329          80   japan        honda civic 1500 gl  \n",
      "397          82     usa                 chevy s-10  \n",
      "169          75     usa                amc gremlin  \n"
     ]
    }
   ],
   "source": [
    "print(\"#4 Picks a random sample of 5 rows:\",\"\\n\\n\", mpg.sample(n=5))"
   ]
  },
  {
   "cell_type": "code",
   "execution_count": 97,
   "metadata": {},
   "outputs": [
    {
     "name": "stdout",
     "output_type": "stream",
     "text": [
      "#5 Minimum value of each column: \n",
      "\n",
      " mpg                                 9.0\n",
      "cylinders                             3\n",
      "displacement                       68.0\n",
      "horsepower                         46.0\n",
      "weight                             1613\n",
      "acceleration                        8.0\n",
      "model_year                           70\n",
      "origin                           europe\n",
      "name            amc ambassador brougham\n",
      "dtype: object\n"
     ]
    }
   ],
   "source": [
    "print(\"#5 Minimum value of each column:\",\"\\n\\n\", mpg.min(axis=0))"
   ]
  },
  {
   "cell_type": "code",
   "execution_count": 98,
   "metadata": {},
   "outputs": [
    {
     "name": "stdout",
     "output_type": "stream",
     "text": [
      "#6 New dataframe contains only selected columns: \n",
      "\n",
      "                         name   mpg  cylinders  weight  horsepower\n",
      "0  chevrolet chevelle malibu  18.0          8    3504       130.0\n",
      "1          buick skylark 320  15.0          8    3693       165.0\n",
      "2         plymouth satellite  18.0          8    3436       150.0\n",
      "3              amc rebel sst  16.0          8    3433       150.0\n",
      "4                ford torino  17.0          8    3449       140.0\n"
     ]
    }
   ],
   "source": [
    "newData = mpg.filter([\"name\", \"mpg\", \"cylinders\", \"weight\", \"horsepower\"], axis = 1)\n",
    "print(\"#6 New dataframe contains only selected columns:\",\"\\n\\n\", newData.head())"
   ]
  },
  {
   "cell_type": "code",
   "execution_count": 121,
   "metadata": {},
   "outputs": [
    {
     "name": "stdout",
     "output_type": "stream",
     "text": [
      "#7 Best mpg: 46.6\n"
     ]
    }
   ],
   "source": [
    "bestMGP = mpg[\"mpg\"].max()\n",
    "print(\"#7 Best mpg:\", bestMGP)"
   ]
  },
  {
   "cell_type": "code",
   "execution_count": 116,
   "metadata": {},
   "outputs": [
    {
     "name": "stdout",
     "output_type": "stream",
     "text": [
      "#8 Most efficient car: \n",
      "\n",
      "           name   mpg\n",
      "322  mazda glc  46.6\n"
     ]
    }
   ],
   "source": [
    "entry = mpg.loc[mpg[\"mpg\"] == bestMGP]\n",
    "indexNumber = (entry.index)\n",
    "print(\"#8 Most efficient car:\",\"\\n\\n\", mpg.iloc[indexNumber,[8,0]])"
   ]
  },
  {
   "cell_type": "code",
   "execution_count": 163,
   "metadata": {},
   "outputs": [
    {
     "name": "stdout",
     "output_type": "stream",
     "text": [
      "#9 Average weight: 2970.42\n"
     ]
    }
   ],
   "source": [
    "averageWeight = mpg[\"weight\"].mean()\n",
    "averageWeight = round(averageWeight, 2)\n",
    "print(\"#9 Average weight:\", averageWeight)"
   ]
  },
  {
   "cell_type": "code",
   "execution_count": 183,
   "metadata": {},
   "outputs": [
    {
     "name": "stdout",
     "output_type": "stream",
     "text": [
      "#10 Cars lighter than average sorted by weight: \n",
      "\n",
      "                            name  weight\n",
      "54                  datsun 1200    1613\n",
      "144               toyota corona    1649\n",
      "343              toyota starlet    1755\n",
      "345            honda civic 1300    1760\n",
      "53          toyota corolla 1200    1773\n",
      "..                          ...     ...\n",
      "392            chevrolet camaro    2950\n",
      "327         audi 5000s (diesel)    2950\n",
      "178                 peugeot 504    2957\n",
      "45   amc hornet sportabout (sw)    2962\n",
      "254        ford fairmont (auto)    2965\n",
      "\n",
      "[227 rows x 2 columns]\n"
     ]
    }
   ],
   "source": [
    "averageList = mpg[mgp.weight < averageWeight]\n",
    "averageList = averageList.sort_values('weight')\n",
    "    print(\"#10 Cars lighter than average sorted by weight:\",\"\\n\\n\", averageList.iloc[:,[8,4]])"
   ]
  },
  {
   "cell_type": "code",
   "execution_count": 185,
   "metadata": {},
   "outputs": [
    {
     "name": "stdout",
     "output_type": "stream",
     "text": [
      "#11 BMW cars mpg: \n",
      "\n",
      "          name   mpg\n",
      "23   bmw 2002  26.0\n",
      "242  bmw 320i  21.5\n"
     ]
    }
   ],
   "source": [
    "bmwList = mpg[mpg['name'].str.contains('bmw', na=False)] \n",
    "print(\"#11 BMW cars mpg:\",\"\\n\\n\", bmwList.iloc[:,[8,0]])"
   ]
  },
  {
   "cell_type": "code",
   "execution_count": 186,
   "metadata": {},
   "outputs": [
    {
     "name": "stdout",
     "output_type": "stream",
     "text": [
      "#11 BMW cars mpg: \n",
      "\n",
      " 19     volkswagen 1131 deluxe sedan\n",
      "20                      peugeot 504\n",
      "21                      audi 100 ls\n",
      "22                         saab 99e\n",
      "23                         bmw 2002\n",
      "                   ...             \n",
      "354                     renault 18i\n",
      "359       peugeot 505s turbo diesel\n",
      "360                    volvo diesel\n",
      "375             volkswagen rabbit l\n",
      "394                       vw pickup\n",
      "Name: name, Length: 70, dtype: object\n"
     ]
    }
   ],
   "source": [
    "europeList = mpg[mpg['origin'].str.contains('europe', na=False)] \n",
    "print(\"#11 BMW cars mpg:\",\"\\n\\n\", europeList.iloc[:,8])"
   ]
  },
  {
   "cell_type": "code",
   "execution_count": null,
   "metadata": {},
   "outputs": [],
   "source": []
  }
 ],
 "metadata": {
  "kernelspec": {
   "display_name": "Python 3 (ipykernel)",
   "language": "python",
   "name": "python3"
  },
  "language_info": {
   "codemirror_mode": {
    "name": "ipython",
    "version": 3
   },
   "file_extension": ".py",
   "mimetype": "text/x-python",
   "name": "python",
   "nbconvert_exporter": "python",
   "pygments_lexer": "ipython3",
   "version": "3.9.7"
  }
 },
 "nbformat": 4,
 "nbformat_minor": 4
}

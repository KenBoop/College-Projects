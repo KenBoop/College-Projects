{
 "cells": [
  {
   "cell_type": "code",
   "execution_count": 78,
   "id": "49e67cd8",
   "metadata": {},
   "outputs": [],
   "source": [
    "import numpy as np\n",
    "import pandas as pd\n",
    "import matplotlib.pyplot as plt\n",
    "from sklearn import datasets\n",
    "from sklearn.linear_model import LinearRegression\n",
    "from sklearn.model_selection import train_test_split\n",
    "from sklearn.metrics import mean_absolute_error\n",
    "from sklearn.metrics import mean_squared_error\n",
    "from sklearn.metrics import r2_score\n",
    "''' Linear Regression '''\n",
    "# Load the Ads dataset\n",
    "df = pd.read_csv(\"2930952.csv\")"
   ]
  },
  {
   "cell_type": "code",
   "execution_count": 48,
   "id": "3f0f5df9",
   "metadata": {},
   "outputs": [
    {
     "name": "stdout",
     "output_type": "stream",
     "text": [
      "(365, 5)\n",
      "             TMAX        TMIN\n",
      "count  365.000000  365.000000\n",
      "mean    61.728767   45.315068\n",
      "std     21.086305   19.043239\n",
      "min      4.000000   -7.000000\n",
      "25%     44.000000   31.000000\n",
      "50%     62.000000   44.000000\n",
      "75%     80.000000   63.000000\n",
      "max     95.000000   77.000000\n"
     ]
    }
   ],
   "source": [
    "#2\n",
    "print(df.shape)\n",
    "print(df.describe())\n",
    "df = df.dropna()"
   ]
  },
  {
   "cell_type": "code",
   "execution_count": 49,
   "id": "5313f7a9",
   "metadata": {},
   "outputs": [
    {
     "data": {
      "image/png": "[encoded data removed]",
      "text/plain": [
       "<Figure size 432x288 with 1 Axes>"
      ]
     },
     "metadata": {
      "needs_background": "light"
     },
     "output_type": "display_data"
    }
   ],
   "source": [
    "#3\n",
    "df.plot(x='TMIN', y='TMAX', style='o')  \n",
    "plt.title('TMIN vs TMAX')  \n",
    "plt.xlabel('Minimum Temp')  \n",
    "plt.ylabel('Maximum Temp')  \n",
    "plt.show()"
   ]
  },
  {
   "cell_type": "code",
   "execution_count": 50,
   "id": "d6d54821",
   "metadata": {},
   "outputs": [
    {
     "name": "stdout",
     "output_type": "stream",
     "text": [
      "[[19]\n",
      " [28]\n",
      " [26]\n",
      " [24]\n",
      " [29]\n",
      " [31]\n",
      " [33]\n",
      " [30]\n",
      " [28]\n",
      " [24]]\n",
      "\n",
      "[[35]\n",
      " [35]\n",
      " [33]\n",
      " [30]\n",
      " [37]\n",
      " [39]\n",
      " [38]\n",
      " [36]\n",
      " [37]\n",
      " [29]]\n"
     ]
    }
   ],
   "source": [
    "#4\n",
    "X = df['TMIN'].values.reshape(-1,1) \n",
    "print(X[:10])\n",
    "print('')\n",
    "y = df['TMAX'].values.reshape(-1,1)\n",
    "print(y[:10])"
   ]
  },
  {
   "cell_type": "code",
   "execution_count": 53,
   "id": "68f32ffd",
   "metadata": {},
   "outputs": [],
   "source": [
    "#5\n",
    "X_train, X_test, y_train, y_test = train_test_split(X, y, test_size= 0.80, random_state=1)"
   ]
  },
  {
   "cell_type": "code",
   "execution_count": 54,
   "id": "874af8df",
   "metadata": {},
   "outputs": [
    {
     "data": {
      "text/plain": [
       "LinearRegression()"
      ]
     },
     "execution_count": 54,
     "metadata": {},
     "output_type": "execute_result"
    }
   ],
   "source": [
    "#6 \n",
    "linear = LinearRegression()\n",
    "linear.fit(X_train, y_train)"
   ]
  },
  {
   "cell_type": "code",
   "execution_count": 55,
   "id": "261e66be",
   "metadata": {},
   "outputs": [
    {
     "name": "stdout",
     "output_type": "stream",
     "text": [
      "[12.9043154]\n",
      "[[1.06702284]]\n"
     ]
    }
   ],
   "source": [
    "#7\n",
    "#intercept\n",
    "print(linear.intercept_)\n",
    "\n",
    "#slope\n",
    "print(linear.coef_)\n"
   ]
  },
  {
   "cell_type": "code",
   "execution_count": 62,
   "id": "0256d78a",
   "metadata": {},
   "outputs": [
    {
     "data": {
      "text/plain": [
       "array([[22.50752092]])"
      ]
     },
     "execution_count": 62,
     "metadata": {},
     "output_type": "execute_result"
    }
   ],
   "source": [
    "#8\n",
    "test_X = np.array(9).reshape(-1, 1)\n",
    "linear.predict(test_X) "
   ]
  },
  {
   "cell_type": "code",
   "execution_count": 64,
   "id": "21045bf2",
   "metadata": {},
   "outputs": [],
   "source": [
    "#9\n",
    "predictions = linear.predict(X_test)"
   ]
  },
  {
   "cell_type": "code",
   "execution_count": 72,
   "id": "85586db8",
   "metadata": {},
   "outputs": [
    {
     "data": {
      "text/html": [
       "<div>\n",
       "<style scoped>\n",
       "    .dataframe tbody tr th:only-of-type {\n",
       "        vertical-align: middle;\n",
       "    }\n",
       "\n",
       "    .dataframe tbody tr th {\n",
       "        vertical-align: top;\n",
       "    }\n",
       "\n",
       "    .dataframe thead th {\n",
       "        text-align: right;\n",
       "    }\n",
       "</style>\n",
       "<table border=\"1\" class=\"dataframe\">\n",
       "  <thead>\n",
       "    <tr style=\"text-align: right;\">\n",
       "      <th></th>\n",
       "      <th>Actual</th>\n",
       "      <th>Predicted</th>\n",
       "    </tr>\n",
       "  </thead>\n",
       "  <tbody>\n",
       "    <tr>\n",
       "      <th>0</th>\n",
       "      <td>40</td>\n",
       "      <td>37.445841</td>\n",
       "    </tr>\n",
       "    <tr>\n",
       "      <th>1</th>\n",
       "      <td>91</td>\n",
       "      <td>90.796982</td>\n",
       "    </tr>\n",
       "    <tr>\n",
       "      <th>2</th>\n",
       "      <td>88</td>\n",
       "      <td>74.791640</td>\n",
       "    </tr>\n",
       "    <tr>\n",
       "      <th>3</th>\n",
       "      <td>77</td>\n",
       "      <td>87.595914</td>\n",
       "    </tr>\n",
       "    <tr>\n",
       "      <th>4</th>\n",
       "      <td>57</td>\n",
       "      <td>56.652252</td>\n",
       "    </tr>\n",
       "    <tr>\n",
       "      <th>5</th>\n",
       "      <td>43</td>\n",
       "      <td>38.512863</td>\n",
       "    </tr>\n",
       "    <tr>\n",
       "      <th>6</th>\n",
       "      <td>82</td>\n",
       "      <td>73.724617</td>\n",
       "    </tr>\n",
       "    <tr>\n",
       "      <th>7</th>\n",
       "      <td>88</td>\n",
       "      <td>87.595914</td>\n",
       "    </tr>\n",
       "    <tr>\n",
       "      <th>8</th>\n",
       "      <td>66</td>\n",
       "      <td>47.049046</td>\n",
       "    </tr>\n",
       "    <tr>\n",
       "      <th>9</th>\n",
       "      <td>39</td>\n",
       "      <td>45.982023</td>\n",
       "    </tr>\n",
       "  </tbody>\n",
       "</table>\n",
       "</div>"
      ],
      "text/plain": [
       "   Actual  Predicted\n",
       "0      40  37.445841\n",
       "1      91  90.796982\n",
       "2      88  74.791640\n",
       "3      77  87.595914\n",
       "4      57  56.652252\n",
       "5      43  38.512863\n",
       "6      82  73.724617\n",
       "7      88  87.595914\n",
       "8      66  47.049046\n",
       "9      39  45.982023"
      ]
     },
     "execution_count": 72,
     "metadata": {},
     "output_type": "execute_result"
    }
   ],
   "source": [
    "#10\n",
    "dfp = pd.DataFrame({'Actual': y_test.flatten(), 'Predicted': predictions.flatten()})\n",
    "dfp[:10]"
   ]
  },
  {
   "cell_type": "code",
   "execution_count": 74,
   "id": "eba78068",
   "metadata": {},
   "outputs": [
    {
     "data": {
      "image/png": "[encoded data removed]",
      "text/plain": [
       "<Figure size 1152x720 with 1 Axes>"
      ]
     },
     "metadata": {
      "needs_background": "light"
     },
     "output_type": "display_data"
    }
   ],
   "source": [
    "#11\n",
    "df2 = dfp.head(25)\n",
    "df2.plot(kind='bar',figsize=(16,10))\n",
    "plt.grid(which='major', linestyle='-', linewidth='0.5', color='green')\n",
    "plt.show()"
   ]
  },
  {
   "cell_type": "code",
   "execution_count": 76,
   "id": "23e890cf",
   "metadata": {},
   "outputs": [
    {
     "data": {
      "image/png": "[encoded data removed]",
      "text/plain": [
       "<Figure size 432x288 with 1 Axes>"
      ]
     },
     "metadata": {
      "needs_background": "light"
     },
     "output_type": "display_data"
    }
   ],
   "source": [
    "#12\n",
    "plt.scatter(X_test, y_test,  color='black')\n",
    "plt.plot(X_test, predictions, color='red', linewidth=2)\n",
    "plt.show()"
   ]
  },
  {
   "cell_type": "code",
   "execution_count": 85,
   "id": "932ee51c",
   "metadata": {},
   "outputs": [
    {
     "name": "stdout",
     "output_type": "stream",
     "text": [
      "Mean_Absolute Error: 5.07\n",
      "Mean Squared Error: 42.02\n",
      "Standard Error: 6.48\n",
      "Coefficient of determination, 1 is perfect prediction: 0.90\n"
     ]
    }
   ],
   "source": [
    "#13\n",
    "print('Mean_Absolute Error: %.2f' % mean_absolute_error(y_test,predictions))  \n",
    "print('Mean Squared Error: %.2f'\n",
    "      % mean_squared_error(y_test, predictions))\n",
    "\n",
    "print(\"Standard Error: %.2f\" % np.sqrt(mean_squared_error(y_test, predictions)))\n",
    "\n",
    "print('Coefficient of determination, 1 is perfect prediction: %.2f'\n",
    "      % r2_score(y_test, predictions))"
   ]
  },
  {
   "cell_type": "code",
   "execution_count": null,
   "id": "61d972bc",
   "metadata": {},
   "outputs": [],
   "source": []
  }
 ],
 "metadata": {
  "kernelspec": {
   "display_name": "Python 3 (ipykernel)",
   "language": "python",
   "name": "python3"
  },
  "language_info": {
   "codemirror_mode": {
    "name": "ipython",
    "version": 3
   },
   "file_extension": ".py",
   "mimetype": "text/x-python",
   "name": "python",
   "nbconvert_exporter": "python",
   "pygments_lexer": "ipython3",
   "version": "3.9.7"
  }
 },
 "nbformat": 4,
 "nbformat_minor": 5
}

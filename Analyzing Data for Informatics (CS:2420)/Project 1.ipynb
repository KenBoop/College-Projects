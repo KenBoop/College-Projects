{
 "cells": [
  {
   "cell_type": "code",
   "execution_count": 35,
   "id": "42ca2559",
   "metadata": {},
   "outputs": [
    {
     "data": {
      "text/html": [
       "<div>\n",
       "<style scoped>\n",
       "    .dataframe tbody tr th:only-of-type {\n",
       "        vertical-align: middle;\n",
       "    }\n",
       "\n",
       "    .dataframe tbody tr th {\n",
       "        vertical-align: top;\n",
       "    }\n",
       "\n",
       "    .dataframe thead th {\n",
       "        text-align: right;\n",
       "    }\n",
       "</style>\n",
       "<table border=\"1\" class=\"dataframe\">\n",
       "  <thead>\n",
       "    <tr style=\"text-align: right;\">\n",
       "      <th></th>\n",
       "      <th>committee_id</th>\n",
       "      <th>committee_name</th>\n",
       "      <th>report_year</th>\n",
       "      <th>report_type</th>\n",
       "      <th>image_number</th>\n",
       "      <th>line_number</th>\n",
       "      <th>transaction_id</th>\n",
       "      <th>file_number</th>\n",
       "      <th>committee_name.1</th>\n",
       "      <th>entity_type</th>\n",
       "      <th>...</th>\n",
       "      <th>filing_form</th>\n",
       "      <th>link_id</th>\n",
       "      <th>is_individual</th>\n",
       "      <th>memo_text</th>\n",
       "      <th>two_year_transaction_period</th>\n",
       "      <th>schedule_type</th>\n",
       "      <th>increased_limit</th>\n",
       "      <th>sub_id</th>\n",
       "      <th>pdf_url</th>\n",
       "      <th>line_number_label</th>\n",
       "    </tr>\n",
       "  </thead>\n",
       "  <tbody>\n",
       "    <tr>\n",
       "      <th>0</th>\n",
       "      <td>C00697441</td>\n",
       "      <td>WIN THE ERA PAC</td>\n",
       "      <td>2019</td>\n",
       "      <td>Q1</td>\n",
       "      <td>201907129150568985</td>\n",
       "      <td>17A</td>\n",
       "      <td>552118</td>\n",
       "      <td>1338412</td>\n",
       "      <td>NaN</td>\n",
       "      <td>IND</td>\n",
       "      <td>...</td>\n",
       "      <td>F3P</td>\n",
       "      <td>4071220191659333196</td>\n",
       "      <td>t</td>\n",
       "      <td>* EARMARKED CONTRIBUTION: SEE BELOW</td>\n",
       "      <td>2020</td>\n",
       "      <td>SA</td>\n",
       "      <td>NaN</td>\n",
       "      <td>4071320191659521577</td>\n",
       "      <td>http://docquery.fec.gov/cgi-bin/fecimg/?201907...</td>\n",
       "      <td>Contributions From Individuals/Persons Other T...</td>\n",
       "    </tr>\n",
       "    <tr>\n",
       "      <th>1</th>\n",
       "      <td>C00697441</td>\n",
       "      <td>WIN THE ERA PAC</td>\n",
       "      <td>2019</td>\n",
       "      <td>Q1</td>\n",
       "      <td>201907129150570846</td>\n",
       "      <td>17A</td>\n",
       "      <td>437162</td>\n",
       "      <td>1338412</td>\n",
       "      <td>NaN</td>\n",
       "      <td>IND</td>\n",
       "      <td>...</td>\n",
       "      <td>F3P</td>\n",
       "      <td>4071220191659333196</td>\n",
       "      <td>t</td>\n",
       "      <td>* EARMARKED CONTRIBUTION: SEE BELOW</td>\n",
       "      <td>2020</td>\n",
       "      <td>SA</td>\n",
       "      <td>NaN</td>\n",
       "      <td>4071320191659527160</td>\n",
       "      <td>http://docquery.fec.gov/cgi-bin/fecimg/?201907...</td>\n",
       "      <td>Contributions From Individuals/Persons Other T...</td>\n",
       "    </tr>\n",
       "    <tr>\n",
       "      <th>2</th>\n",
       "      <td>C00697441</td>\n",
       "      <td>WIN THE ERA PAC</td>\n",
       "      <td>2019</td>\n",
       "      <td>Q1</td>\n",
       "      <td>201907129150570847</td>\n",
       "      <td>17A</td>\n",
       "      <td>879199</td>\n",
       "      <td>1338412</td>\n",
       "      <td>NaN</td>\n",
       "      <td>IND</td>\n",
       "      <td>...</td>\n",
       "      <td>F3P</td>\n",
       "      <td>4071220191659333196</td>\n",
       "      <td>t</td>\n",
       "      <td>NaN</td>\n",
       "      <td>2020</td>\n",
       "      <td>SA</td>\n",
       "      <td>NaN</td>\n",
       "      <td>4071320191659527162</td>\n",
       "      <td>http://docquery.fec.gov/cgi-bin/fecimg/?201907...</td>\n",
       "      <td>Contributions From Individuals/Persons Other T...</td>\n",
       "    </tr>\n",
       "    <tr>\n",
       "      <th>3</th>\n",
       "      <td>C00697441</td>\n",
       "      <td>WIN THE ERA PAC</td>\n",
       "      <td>2019</td>\n",
       "      <td>Q1</td>\n",
       "      <td>201907129150571545</td>\n",
       "      <td>17A</td>\n",
       "      <td>447171</td>\n",
       "      <td>1338412</td>\n",
       "      <td>NaN</td>\n",
       "      <td>IND</td>\n",
       "      <td>...</td>\n",
       "      <td>F3P</td>\n",
       "      <td>4071220191659333196</td>\n",
       "      <td>t</td>\n",
       "      <td>* EARMARKED CONTRIBUTION: SEE BELOW</td>\n",
       "      <td>2020</td>\n",
       "      <td>SA</td>\n",
       "      <td>NaN</td>\n",
       "      <td>4071320191659529257</td>\n",
       "      <td>http://docquery.fec.gov/cgi-bin/fecimg/?201907...</td>\n",
       "      <td>Contributions From Individuals/Persons Other T...</td>\n",
       "    </tr>\n",
       "    <tr>\n",
       "      <th>4</th>\n",
       "      <td>C00697441</td>\n",
       "      <td>WIN THE ERA PAC</td>\n",
       "      <td>2019</td>\n",
       "      <td>Q1</td>\n",
       "      <td>201907129150569583</td>\n",
       "      <td>17A</td>\n",
       "      <td>579151</td>\n",
       "      <td>1338412</td>\n",
       "      <td>NaN</td>\n",
       "      <td>IND</td>\n",
       "      <td>...</td>\n",
       "      <td>F3P</td>\n",
       "      <td>4071220191659333196</td>\n",
       "      <td>t</td>\n",
       "      <td>* EARMARKED CONTRIBUTION: SEE BELOW</td>\n",
       "      <td>2020</td>\n",
       "      <td>SA</td>\n",
       "      <td>NaN</td>\n",
       "      <td>4071320191659523371</td>\n",
       "      <td>http://docquery.fec.gov/cgi-bin/fecimg/?201907...</td>\n",
       "      <td>Contributions From Individuals/Persons Other T...</td>\n",
       "    </tr>\n",
       "  </tbody>\n",
       "</table>\n",
       "<p>5 rows × 79 columns</p>\n",
       "</div>"
      ],
      "text/plain": [
       "  committee_id   committee_name  report_year report_type        image_number  \\\n",
       "0    C00697441  WIN THE ERA PAC         2019          Q1  201907129150568985   \n",
       "1    C00697441  WIN THE ERA PAC         2019          Q1  201907129150570846   \n",
       "2    C00697441  WIN THE ERA PAC         2019          Q1  201907129150570847   \n",
       "3    C00697441  WIN THE ERA PAC         2019          Q1  201907129150571545   \n",
       "4    C00697441  WIN THE ERA PAC         2019          Q1  201907129150569583   \n",
       "\n",
       "  line_number transaction_id  file_number  committee_name.1 entity_type  ...  \\\n",
       "0         17A         552118      1338412               NaN         IND  ...   \n",
       "1         17A         437162      1338412               NaN         IND  ...   \n",
       "2         17A         879199      1338412               NaN         IND  ...   \n",
       "3         17A         447171      1338412               NaN         IND  ...   \n",
       "4         17A         579151      1338412               NaN         IND  ...   \n",
       "\n",
       "  filing_form              link_id is_individual  \\\n",
       "0         F3P  4071220191659333196             t   \n",
       "1         F3P  4071220191659333196             t   \n",
       "2         F3P  4071220191659333196             t   \n",
       "3         F3P  4071220191659333196             t   \n",
       "4         F3P  4071220191659333196             t   \n",
       "\n",
       "                             memo_text two_year_transaction_period  \\\n",
       "0  * EARMARKED CONTRIBUTION: SEE BELOW                        2020   \n",
       "1  * EARMARKED CONTRIBUTION: SEE BELOW                        2020   \n",
       "2                                  NaN                        2020   \n",
       "3  * EARMARKED CONTRIBUTION: SEE BELOW                        2020   \n",
       "4  * EARMARKED CONTRIBUTION: SEE BELOW                        2020   \n",
       "\n",
       "   schedule_type increased_limit               sub_id  \\\n",
       "0             SA             NaN  4071320191659521577   \n",
       "1             SA             NaN  4071320191659527160   \n",
       "2             SA             NaN  4071320191659527162   \n",
       "3             SA             NaN  4071320191659529257   \n",
       "4             SA             NaN  4071320191659523371   \n",
       "\n",
       "                                             pdf_url  \\\n",
       "0  http://docquery.fec.gov/cgi-bin/fecimg/?201907...   \n",
       "1  http://docquery.fec.gov/cgi-bin/fecimg/?201907...   \n",
       "2  http://docquery.fec.gov/cgi-bin/fecimg/?201907...   \n",
       "3  http://docquery.fec.gov/cgi-bin/fecimg/?201907...   \n",
       "4  http://docquery.fec.gov/cgi-bin/fecimg/?201907...   \n",
       "\n",
       "                                   line_number_label  \n",
       "0  Contributions From Individuals/Persons Other T...  \n",
       "1  Contributions From Individuals/Persons Other T...  \n",
       "2  Contributions From Individuals/Persons Other T...  \n",
       "3  Contributions From Individuals/Persons Other T...  \n",
       "4  Contributions From Individuals/Persons Other T...  \n",
       "\n",
       "[5 rows x 79 columns]"
      ]
     },
     "execution_count": 35,
     "metadata": {},
     "output_type": "execute_result"
    }
   ],
   "source": [
    "import pandas as pd\n",
    "import numpy as np\n",
    "import matplotlib.pyplot as plt\n",
    "import seaborn as sns\n",
    "fec = pd.read_csv('schedule.csv')\n",
    "fec.head() #1"
   ]
  },
  {
   "cell_type": "code",
   "execution_count": 36,
   "id": "71650e72",
   "metadata": {},
   "outputs": [
    {
     "name": "stdout",
     "output_type": "stream",
     "text": [
      "<class 'pandas.core.frame.DataFrame'>\n",
      "RangeIndex: 2871 entries, 0 to 2870\n",
      "Data columns (total 79 columns):\n",
      " #   Column                                 Non-Null Count  Dtype  \n",
      "---  ------                                 --------------  -----  \n",
      " 0   committee_id                           2871 non-null   object \n",
      " 1   committee_name                         2871 non-null   object \n",
      " 2   report_year                            2871 non-null   int64  \n",
      " 3   report_type                            2871 non-null   object \n",
      " 4   image_number                           2871 non-null   int64  \n",
      " 5   line_number                            2871 non-null   object \n",
      " 6   transaction_id                         2871 non-null   object \n",
      " 7   file_number                            2871 non-null   int64  \n",
      " 8   committee_name.1                       0 non-null      float64\n",
      " 9   entity_type                            2871 non-null   object \n",
      " 10  entity_type_desc                       2871 non-null   object \n",
      " 11  unused_contbr_id                       1637 non-null   object \n",
      " 12  contributor_prefix                     61 non-null     object \n",
      " 13  contributor_name                       2871 non-null   object \n",
      " 14  recipient_committee_type               2871 non-null   object \n",
      " 15  recipient_committee_org_type           0 non-null      float64\n",
      " 16  recipient_committee_designation        2871 non-null   object \n",
      " 17  contributor_first_name                 2871 non-null   object \n",
      " 18  contributor_middle_name                313 non-null    object \n",
      " 19  contributor_last_name                  2871 non-null   object \n",
      " 20  contributor_suffix                     14 non-null     object \n",
      " 21  contributor_street_1                   2863 non-null   object \n",
      " 22  contributor_street_2                   381 non-null    object \n",
      " 23  contributor_city                       2871 non-null   object \n",
      " 24  contributor_state                      2871 non-null   object \n",
      " 25  contributor_zip                        2871 non-null   int64  \n",
      " 26  contributor_employer                   2848 non-null   object \n",
      " 27  contributor_occupation                 2866 non-null   object \n",
      " 28  contributor_id                         1637 non-null   object \n",
      " 29  receipt_type                           2450 non-null   object \n",
      " 30  receipt_type_desc                      2369 non-null   object \n",
      " 31  receipt_type_full                      379 non-null    object \n",
      " 32  memo_code                              343 non-null    object \n",
      " 33  memo_code_full                         0 non-null      float64\n",
      " 34  contribution_receipt_date              2871 non-null   object \n",
      " 35  contribution_receipt_amount            2871 non-null   float64\n",
      " 36  contributor_aggregate_ytd              2871 non-null   float64\n",
      " 37  candidate_id                           0 non-null      float64\n",
      " 38  candidate_name                         0 non-null      float64\n",
      " 39  candidate_first_name                   0 non-null      float64\n",
      " 40  candidate_last_name                    0 non-null      float64\n",
      " 41  candidate_middle_name                  0 non-null      float64\n",
      " 42  candidate_prefix                       0 non-null      float64\n",
      " 43  candidate_suffix                       0 non-null      float64\n",
      " 44  candidate_office                       0 non-null      float64\n",
      " 45  candidate_office_full                  0 non-null      float64\n",
      " 46  candidate_office_state                 0 non-null      float64\n",
      " 47  candidate_office_state_full            0 non-null      float64\n",
      " 48  candidate_office_district              0 non-null      float64\n",
      " 49  conduit_committee_id                   0 non-null      float64\n",
      " 50  conduit_committee_name                 70 non-null     object \n",
      " 51  conduit_committee_street1              70 non-null     object \n",
      " 52  conduit_committee_street2              0 non-null      float64\n",
      " 53  conduit_committee_city                 70 non-null     object \n",
      " 54  conduit_committee_state                70 non-null     object \n",
      " 55  conduit_committee_zip                  70 non-null     float64\n",
      " 56  donor_committee_name                   0 non-null      float64\n",
      " 57  national_committee_nonfederal_account  0 non-null      float64\n",
      " 58  election_type                          2871 non-null   object \n",
      " 59  election_type_full                     279 non-null    object \n",
      " 60  fec_election_type_desc                 2871 non-null   object \n",
      " 61  fec_election_year                      2871 non-null   int64  \n",
      " 62  amendment_indicator                    2871 non-null   object \n",
      " 63  amendment_indicator_desc               2871 non-null   object \n",
      " 64  schedule_type_full                     2871 non-null   object \n",
      " 65  load_date                              2871 non-null   object \n",
      " 66  original_sub_id                        0 non-null      float64\n",
      " 67  back_reference_transaction_id          2123 non-null   object \n",
      " 68  back_reference_schedule_name           2123 non-null   object \n",
      " 69  filing_form                            2871 non-null   object \n",
      " 70  link_id                                2871 non-null   int64  \n",
      " 71  is_individual                          2871 non-null   object \n",
      " 72  memo_text                              2129 non-null   object \n",
      " 73  two_year_transaction_period            2871 non-null   int64  \n",
      " 74  schedule_type                          2871 non-null   object \n",
      " 75  increased_limit                        0 non-null      float64\n",
      " 76  sub_id                                 2871 non-null   int64  \n",
      " 77  pdf_url                                2871 non-null   object \n",
      " 78  line_number_label                      2871 non-null   object \n",
      "dtypes: float64(24), int64(8), object(47)\n",
      "memory usage: 1.7+ MB\n"
     ]
    }
   ],
   "source": [
    "fec.info() #2"
   ]
  },
  {
   "cell_type": "code",
   "execution_count": 37,
   "id": "d8af1e79",
   "metadata": {},
   "outputs": [
    {
     "name": "stdout",
     "output_type": "stream",
     "text": [
      "committee_id                                                 C00697441\n",
      "committee_name                                         WIN THE ERA PAC\n",
      "report_year                                                       2019\n",
      "report_type                                                         Q1\n",
      "image_number                                        201907129150568985\n",
      "                                           ...                        \n",
      "schedule_type                                                       SA\n",
      "increased_limit                                                    NaN\n",
      "sub_id                                             4071320191659521577\n",
      "pdf_url              http://docquery.fec.gov/cgi-bin/fecimg/?201907...\n",
      "line_number_label    Contributions From Individuals/Persons Other T...\n",
      "Name: 0, Length: 79, dtype: object\n"
     ]
    }
   ],
   "source": [
    "print(fec.iloc[0,:]) #3"
   ]
  },
  {
   "cell_type": "code",
   "execution_count": 38,
   "id": "8cbf6d82",
   "metadata": {},
   "outputs": [
    {
     "data": {
      "text/plain": [
       "array(['WIN THE ERA PAC', 'WARREN FOR PRESIDENT, INC.', 'AMY FOR AMERICA',\n",
       "       'INSLEE FOR AMERICA', 'TIM RYAN FOR AMERICA',\n",
       "       'DONALD J. TRUMP FOR PRESIDENT, INC.', 'BERNIE 2020',\n",
       "       'FRIENDS OF JOHN DELANEY', 'BULLOCK FOR PRESIDENT',\n",
       "       'MARIANNE WILLIAMSON FOR PRESIDENT', 'BIDEN FOR PRESIDENT',\n",
       "       'HICKENLOOPER 2020', 'FRIENDS OF ANDREW YANG',\n",
       "       'WALSH FOR PRESIDENT', 'CORY 2020', 'BENNET FOR AMERICA',\n",
       "       'COMMITTEE TO ELECT MARK CHARLES FOR PRESIDENT',\n",
       "       'KAMALA HARRIS FOR THE PEOPLE'], dtype=object)"
      ]
     },
     "execution_count": 38,
     "metadata": {},
     "output_type": "execute_result"
    }
   ],
   "source": [
    "fec.committee_name.unique() #4"
   ]
  },
  {
   "cell_type": "code",
   "execution_count": 39,
   "id": "c8f9e44e",
   "metadata": {},
   "outputs": [
    {
     "name": "stdout",
     "output_type": "stream",
     "text": [
      "WIN THE ERA PAC\n"
     ]
    }
   ],
   "source": [
    "nameArray = fec.committee_name.unique()\n",
    "print(nameArray[0]) #5"
   ]
  },
  {
   "cell_type": "code",
   "execution_count": 40,
   "id": "7a6b89cb",
   "metadata": {},
   "outputs": [],
   "source": [
    "fec_map = {'WIN THE ERA PAC':'Democratic','WARREN FOR PRESIDENT, INC.':'Democratic', 'AMY FOR AMERICA':'Democratic', 'INSLEE FOR AMERICA':'Democratic','TIM RYAN FOR AMERICA':'Democratic', 'DONALD J. TRUMP FOR PRESIDENT, INC.':'Republican', 'BERNIE 2020':'Democratic', 'FRIENDS OF JOHN DELANEY':'Democratic', 'BULLOCK FOR PRESIDENT':'Democratic', 'MARIANNE WILLIAMSON FOR PRESIDENT':'Democratic', 'BIDEN FOR PRESIDENT': 'Democratic', 'HICKENLOOPER 2020':'Democratic', 'FRIENDS OF ANDREW YANG':'Democratic','WALSH FOR PRESIDENT':'Republican','CORY 2020':'Democratic', 'BENNET FOR AMERICA':'Democratic', 'COMMITTEE TO ELECT MARK CHARLES FOR PRESIDENT':'Independent', 'KAMALA HARRIS FOR THE PEOPLE':'Democratic'}\n",
    "#6"
   ]
  },
  {
   "cell_type": "code",
   "execution_count": 41,
   "id": "e65b6fee",
   "metadata": {},
   "outputs": [],
   "source": [
    "fec['party_affiliation'] = fec.committee_name.map(fec_map) #7"
   ]
  },
  {
   "cell_type": "code",
   "execution_count": 42,
   "id": "ad0e3478",
   "metadata": {},
   "outputs": [
    {
     "data": {
      "text/html": [
       "<div>\n",
       "<style scoped>\n",
       "    .dataframe tbody tr th:only-of-type {\n",
       "        vertical-align: middle;\n",
       "    }\n",
       "\n",
       "    .dataframe tbody tr th {\n",
       "        vertical-align: top;\n",
       "    }\n",
       "\n",
       "    .dataframe thead th {\n",
       "        text-align: right;\n",
       "    }\n",
       "</style>\n",
       "<table border=\"1\" class=\"dataframe\">\n",
       "  <thead>\n",
       "    <tr style=\"text-align: right;\">\n",
       "      <th></th>\n",
       "      <th>committee_name</th>\n",
       "      <th>party_affiliation</th>\n",
       "    </tr>\n",
       "  </thead>\n",
       "  <tbody>\n",
       "    <tr>\n",
       "      <th>0</th>\n",
       "      <td>WIN THE ERA PAC</td>\n",
       "      <td>Democratic</td>\n",
       "    </tr>\n",
       "    <tr>\n",
       "      <th>1</th>\n",
       "      <td>WIN THE ERA PAC</td>\n",
       "      <td>Democratic</td>\n",
       "    </tr>\n",
       "    <tr>\n",
       "      <th>2</th>\n",
       "      <td>WIN THE ERA PAC</td>\n",
       "      <td>Democratic</td>\n",
       "    </tr>\n",
       "    <tr>\n",
       "      <th>3</th>\n",
       "      <td>WIN THE ERA PAC</td>\n",
       "      <td>Democratic</td>\n",
       "    </tr>\n",
       "    <tr>\n",
       "      <th>4</th>\n",
       "      <td>WIN THE ERA PAC</td>\n",
       "      <td>Democratic</td>\n",
       "    </tr>\n",
       "  </tbody>\n",
       "</table>\n",
       "</div>"
      ],
      "text/plain": [
       "    committee_name party_affiliation\n",
       "0  WIN THE ERA PAC        Democratic\n",
       "1  WIN THE ERA PAC        Democratic\n",
       "2  WIN THE ERA PAC        Democratic\n",
       "3  WIN THE ERA PAC        Democratic\n",
       "4  WIN THE ERA PAC        Democratic"
      ]
     },
     "execution_count": 42,
     "metadata": {},
     "output_type": "execute_result"
    }
   ],
   "source": [
    "fec[['committee_name', 'party_affiliation']].head() #8"
   ]
  },
  {
   "cell_type": "code",
   "execution_count": 43,
   "id": "c5c8a9f7",
   "metadata": {},
   "outputs": [
    {
     "data": {
      "text/plain": [
       "Democratic     2356\n",
       "Republican      514\n",
       "Independent       1\n",
       "Name: party_affiliation, dtype: int64"
      ]
     },
     "execution_count": 43,
     "metadata": {},
     "output_type": "execute_result"
    }
   ],
   "source": [
    "fec['party_affiliation'].value_counts() #9"
   ]
  },
  {
   "cell_type": "code",
   "execution_count": 44,
   "id": "3328c556",
   "metadata": {
    "scrolled": true
   },
   "outputs": [
    {
     "name": "stdout",
     "output_type": "stream",
     "text": [
      "Database length: 2871\n"
     ]
    }
   ],
   "source": [
    "print(\"Database length:\", len(fec)) #10"
   ]
  },
  {
   "cell_type": "code",
   "execution_count": 45,
   "id": "cfb8d44b",
   "metadata": {},
   "outputs": [
    {
     "name": "stdout",
     "output_type": "stream",
     "text": [
      "Number of contributions > 0: 2871\n"
     ]
    }
   ],
   "source": [
    "column = fec['contribution_receipt_amount']\n",
    "count = column[column > 0].count()\n",
    "print(\"Number of contributions > 0:\", count) #11"
   ]
  },
  {
   "cell_type": "code",
   "execution_count": 46,
   "id": "c8560bd0",
   "metadata": {},
   "outputs": [
    {
     "name": "stdout",
     "output_type": "stream",
     "text": [
      "Number of contributions <= 0: 0\n"
     ]
    }
   ],
   "source": [
    "count2 = column[column <= 0].count()\n",
    "print(\"Number of contributions <= 0:\", count2) #12"
   ]
  },
  {
   "cell_type": "code",
   "execution_count": 47,
   "id": "d6bb1b6b",
   "metadata": {},
   "outputs": [
    {
     "name": "stdout",
     "output_type": "stream",
     "text": [
      "Length of dataframe without 0 or neg contributions 2871\n"
     ]
    }
   ],
   "source": [
    "fec = fec[fec.contribution_receipt_amount > 0] \n",
    "print(\"Length of dataframe without 0 or neg contributions\", count) #13"
   ]
  },
  {
   "cell_type": "code",
   "execution_count": 48,
   "id": "cc809976",
   "metadata": {},
   "outputs": [
    {
     "name": "stdout",
     "output_type": "stream",
     "text": [
      "NOT EMPLOYED                    566\n",
      "RETIRED                         407\n",
      "SOCIAL WORKER                   111\n",
      "NONE                             88\n",
      "ATTORNEY                         64\n",
      "QUALITY ASSURANCE WORKER         59\n",
      "WRITER                           52\n",
      "INSERT OPERATOR                  39\n",
      "INTERNET MARKETING               35\n",
      "WRITING CONSULTANT               31\n",
      "ACCOUNTANT                       31\n",
      "LAW                              31\n",
      "ENTREPRENEUR                     30\n",
      "EDITOR                           29\n",
      "PHYSICIAN                        27\n",
      "DENTIST                          27\n",
      "POSTAL WORKER                    26\n",
      "MARKETING                        25\n",
      "ACTUARY                          23\n",
      "HOME DESIGNER                    23\n",
      "PROFESSOR                        22\n",
      "STATE REPRESENTATIVE             22\n",
      "LAWYER                           21\n",
      "OPERATIONS MANAGER               20\n",
      "IT                               19\n",
      "CRITICAL FACILITIES ENGINEER     18\n",
      "TUTOR                            18\n",
      "TECHNICIAN                       17\n",
      "DIGITAL MARKETER                 17\n",
      "CONSULTANT                       16\n",
      "Name: contributor_occupation, dtype: int64\n"
     ]
    }
   ],
   "source": [
    "count3 = fec['contributor_occupation'].value_counts()\n",
    "print(count3[:30]) #14"
   ]
  },
  {
   "cell_type": "code",
   "execution_count": 49,
   "id": "f9b1070b",
   "metadata": {
    "scrolled": false
   },
   "outputs": [],
   "source": [
    "employer_mapping = {'NOT EMPLOYED': 'NONE', 'NOT-EMPLOYED':'NONE', 'SELF-EMPLOYED':'SELF', 'SELF EMPLOYED':'SELF', 'SELF EMPLOYED EMPLOYED':'SELF', 'MIDAMAR CORPORATION':'MIDAMAR FOODS', 'DRAKE UNIVERSITY':'DRAKE UNIV.','HY-VEE':'HY-VEE INC','HYVEE':'HY-VEE INC','MERCY MEDICAL CENTER':'MERCY CLINICS INC','MERCY':'MERCY CLINICS INC','STATE OF IA':'STATE OF IOWA','POLK COUNTY IOWA':'POLK COUNTY','STATE GOVERNMENT':'STATE OF IOWA','DMACC':'DES MOINES AREA COMM COLLEGE'}\n",
    "fun2 = lambda x: employer_mapping.get(x,x)\n",
    "fec['contributor_employer'] = fec.contributor_employer.map(fun2) #15"
   ]
  },
  {
   "cell_type": "code",
   "execution_count": 50,
   "id": "16557bef",
   "metadata": {},
   "outputs": [],
   "source": [
    "occupation_mapping = {'NOT EMPLOYED': 'NONE', 'NOT-EMPLOYED':'NONE', 'SELF-EMPLOYED':'SELF', 'SELF EMPLOYED':'SELF', 'WRITER':'WRITER/EDITOR', 'EMPLOYEE':'STAFF', 'IT':'TECH', 'DESKTOP TECHNICIAN':'TECH', 'FAST FOOD EMPLOYEE':'EMPLOYEE', 'TECHNICIAN':'TECH', 'SALES':'RETAIL SALES', 'IT SYSTEM ANALYST I':'IT ANALYST', 'ACCOUNTING ASSOCIATE':'ACCOUNTANT'}\n",
    "fun3 = lambda x: occupation_mapping.get(x,x)\n",
    "fec['contributor_occupation'] = fec.contributor_occupation.map(fun3) #16"
   ]
  },
  {
   "cell_type": "code",
   "execution_count": 51,
   "id": "8f7d2fe8",
   "metadata": {},
   "outputs": [
    {
     "name": "stdout",
     "output_type": "stream",
     "text": [
      "NONE                            655\n",
      "RETIRED                         407\n",
      "SOCIAL WORKER                   111\n",
      "ATTORNEY                         64\n",
      "QUALITY ASSURANCE WORKER         59\n",
      "WRITER/EDITOR                    58\n",
      "TECH                             44\n",
      "INSERT OPERATOR                  39\n",
      "ACCOUNTANT                       35\n",
      "INTERNET MARKETING               35\n",
      "RETAIL SALES                     32\n",
      "WRITING CONSULTANT               31\n",
      "LAW                              31\n",
      "ENTREPRENEUR                     30\n",
      "EDITOR                           29\n",
      "DENTIST                          27\n",
      "PHYSICIAN                        27\n",
      "POSTAL WORKER                    26\n",
      "MARKETING                        25\n",
      "HOME DESIGNER                    23\n",
      "ACTUARY                          23\n",
      "STATE REPRESENTATIVE             22\n",
      "PROFESSOR                        22\n",
      "LAWYER                           21\n",
      "OPERATIONS MANAGER               20\n",
      "CRITICAL FACILITIES ENGINEER     18\n",
      "TUTOR                            18\n",
      "DIGITAL MARKETER                 17\n",
      "CONSULTANT                       16\n",
      "SALES ASSOCIATE                  16\n",
      "Name: contributor_occupation, dtype: int64\n"
     ]
    }
   ],
   "source": [
    "count4 = fec['contributor_occupation'].value_counts()\n",
    "print(count4[:30]) #17"
   ]
  },
  {
   "cell_type": "code",
   "execution_count": 52,
   "id": "44934313",
   "metadata": {
    "scrolled": true
   },
   "outputs": [
    {
     "name": "stdout",
     "output_type": "stream",
     "text": [
      "party_affiliation              Democratic  Independent  Republican\n",
      "contributor_occupation                                            \n",
      "ACCOUNT RESOLUTION MANAGER          63.00          NaN         NaN\n",
      "ACCOUNTANT                        1730.23          NaN       107.5\n",
      "ACTUARY                           2609.00          NaN         NaN\n",
      "ADJUNCT PROFESSOR                  120.00          NaN         NaN\n",
      "ADMINISTRATIVE ASSISTANT           205.00          NaN         NaN\n",
      "...                                   ...          ...         ...\n",
      "VICE PRESIDENT OF DEVELOPMENT      166.00          NaN         NaN\n",
      "WATER QUALITY PROJECT MANAGER       75.00          NaN         NaN\n",
      "WEB DEVELOPER                       50.00          NaN         NaN\n",
      "WRITER/EDITOR                     2345.85          NaN         NaN\n",
      "WRITING CONSULTANT                 374.74          NaN         NaN\n",
      "\n",
      "[208 rows x 3 columns]\n"
     ]
    }
   ],
   "source": [
    "pivotFec = fec.pivot_table(index = 'contributor_occupation', values='contribution_receipt_amount',columns='party_affiliation', aggfunc='sum')\n",
    "print(pivotFec)\n",
    "#18"
   ]
  },
  {
   "cell_type": "code",
   "execution_count": 53,
   "id": "354f0f2f",
   "metadata": {},
   "outputs": [
    {
     "name": "stdout",
     "output_type": "stream",
     "text": [
      "party_affiliation       Democratic  Independent  Republican\n",
      "contributor_occupation                                     \n",
      "ACTUARY                    2609.00          NaN         NaN\n",
      "ATTORNEY                   9900.00          NaN        5.00\n",
      "BUSINESS OWNER             4839.72          NaN      225.00\n",
      "CEO                        3000.00          NaN         NaN\n",
      "CONSULTANT                 3497.49          NaN         NaN\n",
      "LAW                        3222.00          NaN         NaN\n",
      "LAWYER                     2175.00          NaN         NaN\n",
      "NONE                      37774.26          NaN     1146.51\n",
      "OWNER                      9500.00          NaN      582.75\n",
      "PHYSICIAN                  4422.00          NaN         NaN\n",
      "RETIRED                    4224.95          NaN    13332.90\n",
      "SOFTWARE ENGINEER          3041.92          NaN         NaN\n",
      "WRITER/EDITOR              2345.85          NaN         NaN\n"
     ]
    }
   ],
   "source": [
    "over_2000 = pivotFec[(pivotFec['Democratic']> 2000) | \n",
    "(pivotFec['Republican'] > 2000)] \n",
    "print(over_2000)\n",
    "#19"
   ]
  },
  {
   "cell_type": "code",
   "execution_count": 102,
   "id": "4f7d92d9",
   "metadata": {},
   "outputs": [
    {
     "data": {
      "text/plain": [
       "<AxesSubplot:xlabel='contributor_occupation'>"
      ]
     },
     "execution_count": 102,
     "metadata": {},
     "output_type": "execute_result"
    },
    {
     "data": {
      "image/png": "[encoded data removed]",
      "text/plain": [
       "<Figure size 432x288 with 1 Axes>"
      ]
     },
     "metadata": {},
     "output_type": "display_data"
    }
   ],
   "source": [
    "over_2000.plot(kind ='bar')\n",
    "\n",
    "#20\n"
   ]
  },
  {
   "cell_type": "code",
   "execution_count": null,
   "id": "f2217012",
   "metadata": {},
   "outputs": [],
   "source": []
  }
 ],
 "metadata": {
  "kernelspec": {
   "display_name": "Python 3 (ipykernel)",
   "language": "python",
   "name": "python3"
  },
  "language_info": {
   "codemirror_mode": {
    "name": "ipython",
    "version": 3
   },
   "file_extension": ".py",
   "mimetype": "text/x-python",
   "name": "python",
   "nbconvert_exporter": "python",
   "pygments_lexer": "ipython3",
   "version": "3.9.7"
  }
 },
 "nbformat": 4,
 "nbformat_minor": 5
}

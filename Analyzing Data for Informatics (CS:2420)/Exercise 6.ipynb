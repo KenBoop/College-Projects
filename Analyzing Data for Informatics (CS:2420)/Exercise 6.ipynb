{
 "cells": [
  {
   "cell_type": "code",
   "execution_count": 1,
   "metadata": {
    "scrolled": true
   },
   "outputs": [],
   "source": [
    "''' PANDAS '''\n",
    "import pandas as pd\n"
   ]
  },
  {
   "cell_type": "code",
   "execution_count": 2,
   "metadata": {},
   "outputs": [],
   "source": [
    "''' sqlite3 '''\n",
    "# Import sqlite3\n",
    "import sqlite3\n",
    "\n",
    "# Create connection. This will create the connection with a database. \n",
    "# If the database does not exist it will create the database\n",
    "conn = sqlite3.connect('weatherdata.db')"
   ]
  },
  {
   "cell_type": "code",
   "execution_count": 3,
   "metadata": {
    "scrolled": true
   },
   "outputs": [
    {
     "data": {
      "text/html": [
       "<div>\n",
       "<style scoped>\n",
       "    .dataframe tbody tr th:only-of-type {\n",
       "        vertical-align: middle;\n",
       "    }\n",
       "\n",
       "    .dataframe tbody tr th {\n",
       "        vertical-align: top;\n",
       "    }\n",
       "\n",
       "    .dataframe thead th {\n",
       "        text-align: right;\n",
       "    }\n",
       "</style>\n",
       "<table border=\"1\" class=\"dataframe\">\n",
       "  <thead>\n",
       "    <tr style=\"text-align: right;\">\n",
       "      <th></th>\n",
       "      <th>City</th>\n",
       "      <th>Country</th>\n",
       "      <th>Season</th>\n",
       "      <th>Temperature</th>\n",
       "      <th>Rainfall</th>\n",
       "    </tr>\n",
       "  </thead>\n",
       "  <tbody>\n",
       "    <tr>\n",
       "      <th>0</th>\n",
       "      <td>Mumbai</td>\n",
       "      <td>India</td>\n",
       "      <td>1</td>\n",
       "      <td>24.8</td>\n",
       "      <td>5.9</td>\n",
       "    </tr>\n",
       "    <tr>\n",
       "      <th>1</th>\n",
       "      <td>Mumbai</td>\n",
       "      <td>India</td>\n",
       "      <td>2</td>\n",
       "      <td>28.4</td>\n",
       "      <td>16.2</td>\n",
       "    </tr>\n",
       "    <tr>\n",
       "      <th>2</th>\n",
       "      <td>Mumbai</td>\n",
       "      <td>India</td>\n",
       "      <td>3</td>\n",
       "      <td>27.9</td>\n",
       "      <td>549.4</td>\n",
       "    </tr>\n",
       "    <tr>\n",
       "      <th>3</th>\n",
       "      <td>Mumbai</td>\n",
       "      <td>India</td>\n",
       "      <td>4</td>\n",
       "      <td>27.6</td>\n",
       "      <td>346.0</td>\n",
       "    </tr>\n",
       "    <tr>\n",
       "      <th>4</th>\n",
       "      <td>London</td>\n",
       "      <td>United Kingdom</td>\n",
       "      <td>1</td>\n",
       "      <td>4.2</td>\n",
       "      <td>207.7</td>\n",
       "    </tr>\n",
       "  </tbody>\n",
       "</table>\n",
       "</div>"
      ],
      "text/plain": [
       "     City         Country  Season  Temperature  Rainfall\n",
       "0  Mumbai           India       1         24.8       5.9\n",
       "1  Mumbai           India       2         28.4      16.2\n",
       "2  Mumbai           India       3         27.9     549.4\n",
       "3  Mumbai           India       4         27.6     346.0\n",
       "4  London  United Kingdom       1          4.2     207.7"
      ]
     },
     "execution_count": 3,
     "metadata": {},
     "output_type": "execute_result"
    }
   ],
   "source": [
    "# Create cursor\n",
    "cur = conn.cursor()\n",
    "\n",
    "# Empty the database table to start with\n",
    "cur.execute('DROP TABLE IF EXISTS WeatherTable')\n",
    "\n",
    "# Get the csv data into a dataframe\n",
    "df = pd.read_csv('WeatherData.csv', header=0)\n",
    "df.head()"
   ]
  },
  {
   "cell_type": "code",
   "execution_count": 4,
   "metadata": {},
   "outputs": [],
   "source": [
    "# WRITE the df into a table of the database\n",
    "'''By default, if a table does not already exists and you try the code below, \n",
    "a new table will be created in your database with the name you specified,\n",
    "do not create a column with the index'''\n",
    "df.to_sql('WeatherTable', con=conn, if_exists='append', index=False)\n"
   ]
  },
  {
   "cell_type": "code",
   "execution_count": 5,
   "metadata": {},
   "outputs": [
    {
     "name": "stdout",
     "output_type": "stream",
     "text": [
      "Whole table, no conditions\n"
     ]
    },
    {
     "data": {
      "text/plain": [
       "[('Mumbai', 'India', 1, 24.8, 5.9),\n",
       " ('Mumbai', 'India', 2, 28.4, 16.2),\n",
       " ('Mumbai', 'India', 3, 27.9, 549.4),\n",
       " ('Mumbai', 'India', 4, 27.6, 346.0),\n",
       " ('London', 'United Kingdom', 1, 4.2, 207.7),\n",
       " ('London', 'United Kingdom', 2, 8.3, 169.6),\n",
       " ('London', 'United Kingdom', 3, 15.7, 157.0),\n",
       " ('London', 'United Kingdom', 4, 10.4, 218.5),\n",
       " ('Cairo', 'Egypt', 1, 13.6, 16.5),\n",
       " ('Cairo', 'Egypt', 2, 20.7, 6.5),\n",
       " ('Cairo', 'Egypt', 3, 27.7, 0.1),\n",
       " ('Cairo', 'Egypt', 4, 22.2, 4.5),\n",
       " ('Sydney', 'Australia', 1, 12.77, 60.8),\n",
       " ('Sydney', 'Australia', 2, 16.67, 80.75),\n",
       " ('Sydney', 'Australia', 3, 23.88, 120.6),\n",
       " ('Sydney', 'Australia', 4, 18.89, 90.9)]"
      ]
     },
     "execution_count": 5,
     "metadata": {},
     "output_type": "execute_result"
    }
   ],
   "source": [
    "print(\"Whole table, no conditions\")\n",
    "cur.execute('SELECT * FROM WeatherTable')\n",
    "cur.fetchall()"
   ]
  },
  {
   "cell_type": "code",
   "execution_count": 10,
   "metadata": {},
   "outputs": [
    {
     "name": "stdout",
     "output_type": "stream",
     "text": [
      "All the records of the city of London.\n"
     ]
    },
    {
     "data": {
      "text/plain": [
       "[('London', 'United Kingdom', 1, 4.2, 207.7),\n",
       " ('London', 'United Kingdom', 2, 8.3, 169.6),\n",
       " ('London', 'United Kingdom', 3, 15.7, 157.0),\n",
       " ('London', 'United Kingdom', 4, 10.4, 218.5)]"
      ]
     },
     "execution_count": 10,
     "metadata": {},
     "output_type": "execute_result"
    }
   ],
   "source": [
    "#A\n",
    "print(\"All the records of the city of London.\")\n",
    "cur.execute('SELECT * FROM WeatherTable WHERE City = \"London\"')\n",
    "cur.fetchall()"
   ]
  },
  {
   "cell_type": "code",
   "execution_count": 11,
   "metadata": {},
   "outputs": [
    {
     "name": "stdout",
     "output_type": "stream",
     "text": [
      "All summer records\n"
     ]
    },
    {
     "data": {
      "text/plain": [
       "[('Mumbai', 'India', 3, 27.9, 549.4),\n",
       " ('London', 'United Kingdom', 3, 15.7, 157.0),\n",
       " ('Cairo', 'Egypt', 3, 27.7, 0.1),\n",
       " ('Sydney', 'Australia', 3, 23.88, 120.6)]"
      ]
     },
     "execution_count": 11,
     "metadata": {},
     "output_type": "execute_result"
    }
   ],
   "source": [
    "#B\n",
    "print(\"All summer records\")\n",
    "cur.execute('SELECT * FROM WeatherTable WHERE Season = 3')\n",
    "cur.fetchall()"
   ]
  },
  {
   "cell_type": "code",
   "execution_count": 7,
   "metadata": {},
   "outputs": [
    {
     "name": "stdout",
     "output_type": "stream",
     "text": [
      "City, country, and season for which the average temperature is less than 20 degrees.\n"
     ]
    },
    {
     "data": {
      "text/plain": [
       "[('London', 'United Kingdom', 1, 4.2),\n",
       " ('London', 'United Kingdom', 2, 8.3),\n",
       " ('London', 'United Kingdom', 3, 15.7),\n",
       " ('London', 'United Kingdom', 4, 10.4),\n",
       " ('Cairo', 'Egypt', 1, 13.6),\n",
       " ('Sydney', 'Australia', 1, 12.77),\n",
       " ('Sydney', 'Australia', 2, 16.67),\n",
       " ('Sydney', 'Australia', 4, 18.89)]"
      ]
     },
     "execution_count": 7,
     "metadata": {},
     "output_type": "execute_result"
    }
   ],
   "source": [
    "#C\n",
    "print(\"City, country, and season for which the average temperature is less than 20 degrees.\")\n",
    "cur.execute('SELECT City, Country, Season, Temperature FROM WeatherTable WHERE Temperature < 20 ')\n",
    "cur.fetchall()"
   ]
  },
  {
   "cell_type": "code",
   "execution_count": 19,
   "metadata": {},
   "outputs": [
    {
     "name": "stdout",
     "output_type": "stream",
     "text": [
      "City, country, and season for which the average temperature is greater than 20 degrees and the total rainfall is less than 10mm.\n"
     ]
    },
    {
     "data": {
      "text/plain": [
       "[('Mumbai', 'India', 1, 24.8, 5.9),\n",
       " ('Cairo', 'Egypt', 2, 20.7, 6.5),\n",
       " ('Cairo', 'Egypt', 3, 27.7, 0.1),\n",
       " ('Cairo', 'Egypt', 4, 22.2, 4.5)]"
      ]
     },
     "execution_count": 19,
     "metadata": {},
     "output_type": "execute_result"
    }
   ],
   "source": [
    "#D\n",
    "print(\"City, country, and season for which the average temperature is greater than 20 degrees and the total rainfall is less than 10mm.\")\n",
    "cur.execute('SELECT * FROM WeatherTable WHERE (Temperature > 20 AND Rainfall < 10)')\n",
    "cur.fetchall()"
   ]
  },
  {
   "cell_type": "code",
   "execution_count": 21,
   "metadata": {},
   "outputs": [
    {
     "data": {
      "text/plain": [
       "[(549.4,)]"
      ]
     },
     "execution_count": 21,
     "metadata": {},
     "output_type": "execute_result"
    }
   ],
   "source": [
    "#E\n",
    "cur.execute('SELECT MAX(Rainfall) FROM WeatherTable')\n",
    "cur.fetchall()"
   ]
  },
  {
   "cell_type": "code",
   "execution_count": 8,
   "metadata": {},
   "outputs": [
    {
     "name": "stdout",
     "output_type": "stream",
     "text": [
      "City, season, and rainfall amounts for all records in descending order of rainfall.\n"
     ]
    },
    {
     "data": {
      "text/plain": [
       "[('Mumbai', 3, 549.4),\n",
       " ('Mumbai', 4, 346.0),\n",
       " ('London', 4, 218.5),\n",
       " ('London', 1, 207.7),\n",
       " ('London', 2, 169.6),\n",
       " ('London', 3, 157.0),\n",
       " ('Sydney', 3, 120.6),\n",
       " ('Sydney', 4, 90.9),\n",
       " ('Sydney', 2, 80.75),\n",
       " ('Sydney', 1, 60.8),\n",
       " ('Cairo', 1, 16.5),\n",
       " ('Mumbai', 2, 16.2),\n",
       " ('Cairo', 2, 6.5),\n",
       " ('Mumbai', 1, 5.9),\n",
       " ('Cairo', 4, 4.5),\n",
       " ('Cairo', 3, 0.1)]"
      ]
     },
     "execution_count": 8,
     "metadata": {},
     "output_type": "execute_result"
    }
   ],
   "source": [
    "#F\n",
    "print(\"City, season, and rainfall amounts for all records in descending order of rainfall.\")\n",
    "cur.execute('SELECT City, Season, Rainfall FROM WeatherTable ORDER BY Rainfall DESC')\n",
    "cur.fetchall()"
   ]
  },
  {
   "cell_type": "code",
   "execution_count": 9,
   "metadata": {},
   "outputs": [
    {
     "data": {
      "text/plain": [
       "[('Cairo', 27.6)]"
      ]
     },
     "execution_count": 9,
     "metadata": {},
     "output_type": "execute_result"
    }
   ],
   "source": [
    "#G\n",
    "cur.execute('SELECT City, SUM(Rainfall) FROM WeatherTable WHERE City = \"Cairo\"')\n",
    "cur.fetchall()"
   ]
  },
  {
   "cell_type": "code",
   "execution_count": 10,
   "metadata": {},
   "outputs": [
    {
     "data": {
      "text/plain": [
       "[('Cairo', 27.6),\n",
       " ('London', 752.8),\n",
       " ('Mumbai', 917.5),\n",
       " ('Sydney', 353.04999999999995)]"
      ]
     },
     "execution_count": 10,
     "metadata": {},
     "output_type": "execute_result"
    }
   ],
   "source": [
    "#H\n",
    "cur.execute('SELECT City, SUM(Rainfall) FROM WeatherTable GROUP BY City')\n",
    "cur.fetchall()"
   ]
  },
  {
   "cell_type": "code",
   "execution_count": 50,
   "metadata": {},
   "outputs": [],
   "source": [
    "# Close the Database connection\n",
    "conn.close()"
   ]
  }
 ],
 "metadata": {
  "kernelspec": {
   "display_name": "Python 3 (ipykernel)",
   "language": "python",
   "name": "python3"
  },
  "language_info": {
   "codemirror_mode": {
    "name": "ipython",
    "version": 3
   },
   "file_extension": ".py",
   "mimetype": "text/x-python",
   "name": "python",
   "nbconvert_exporter": "python",
   "pygments_lexer": "ipython3",
   "version": "3.9.7"
  }
 },
 "nbformat": 4,
 "nbformat_minor": 4
}
